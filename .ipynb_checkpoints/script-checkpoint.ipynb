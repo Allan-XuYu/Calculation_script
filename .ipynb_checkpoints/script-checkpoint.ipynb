{
 "cells": [
  {
   "cell_type": "markdown",
   "metadata": {},
   "source": [
    "### Dependency"
   ]
  },
  {
   "cell_type": "code",
   "execution_count": 1,
   "metadata": {},
   "outputs": [],
   "source": [
    "import math\n",
    "import numpy as np"
   ]
  },
  {
   "cell_type": "markdown",
   "metadata": {},
   "source": [
    "### Root and Exponentiation 开根号/求平方"
   ]
  },
  {
   "cell_type": "code",
   "execution_count": 2,
   "metadata": {},
   "outputs": [
    {
     "name": "stdout",
     "output_type": "stream",
     "text": [
      "3.0\n"
     ]
    }
   ],
   "source": [
    "x=9\n",
    "up=1/2\n",
    "print(pow(x,up))"
   ]
  },
  {
   "cell_type": "markdown",
   "metadata": {},
   "source": [
    "### Distance between tow points 两点or两vector（多维）间距，欧氏距离"
   ]
  },
  {
   "cell_type": "code",
   "execution_count": 3,
   "metadata": {},
   "outputs": [],
   "source": [
    "def D_twopoints(point1,point2):\n",
    "    if len(point1)!=len(point2):\n",
    "        return \"bits not matching\"\n",
    "    \n",
    "    temp=0\n",
    "    for i in range(len(point1)):\n",
    "        temp+=pow((point1[i]-point2[i]),2)\n",
    "    \n",
    "    return temp"
   ]
  },
  {
   "cell_type": "code",
   "execution_count": 4,
   "metadata": {},
   "outputs": [
    {
     "name": "stdout",
     "output_type": "stream",
     "text": [
      "Before root: 18.25\n",
      "Number of distance is: 4.272001872658765\n"
     ]
    }
   ],
   "source": [
    "# input two data points in the same dimension\n",
    "P1 =(3.5,7)\n",
    "P2 =(5,3)\n",
    "result=D_twopoints(P1,P2)\n",
    "print(\"Before root:\",result)  # before root\n",
    "print(\"Number of distance is:\",math.sqrt(result)) #  after root, real value"
   ]
  },
  {
   "cell_type": "markdown",
   "metadata": {},
   "source": [
    "### Linear  equation calculation 线性方程计算"
   ]
  },
  {
   "cell_type": "code",
   "execution_count": 5,
   "metadata": {},
   "outputs": [],
   "source": [
    "def linear_calculation(W,X,b):\n",
    "    return ((np.dot(X, W.T))+b)"
   ]
  },
  {
   "cell_type": "code",
   "execution_count": 6,
   "metadata": {},
   "outputs": [
    {
     "name": "stdout",
     "output_type": "stream",
     "text": [
      "linear calcucating result is: [[0.0389019]]\n"
     ]
    }
   ],
   "source": [
    "# W,X should be in the same dimensions\n",
    "Wvector= np.array([(-1.2,1.1)])   # input coefficients W \n",
    "Xvector= np.array([(0.524979,0.880797)])       # input variables X \n",
    "bias= -0.3                       # input bias\n",
    "lin_result = linear_calculation(Wvector,Xvector,bias)\n",
    "print(\"linear calcucating result is:\",lin_result)"
   ]
  },
  {
   "cell_type": "markdown",
   "metadata": {},
   "source": [
    "### Sigmoid function"
   ]
  },
  {
   "cell_type": "code",
   "execution_count": 7,
   "metadata": {},
   "outputs": [],
   "source": [
    "def sigmoid(x):\n",
    "    return 1 / (1 + math.exp(-x))"
   ]
  },
  {
   "cell_type": "code",
   "execution_count": 8,
   "metadata": {},
   "outputs": [
    {
     "name": "stdout",
     "output_type": "stream",
     "text": [
      "sigmoid result is: 0.5097242486752799\n"
     ]
    }
   ],
   "source": [
    "sigmoid_x= lin_result\n",
    "sigmoid_result=sigmoid(sigmoid_x)\n",
    "print(\"sigmoid result is:\",sigmoid_result)"
   ]
  },
  {
   "cell_type": "markdown",
   "metadata": {},
   "source": [
    "### Feature map of CNN by kernel 特征提取/卷积神经网络"
   ]
  },
  {
   "cell_type": "code",
   "execution_count": 9,
   "metadata": {},
   "outputs": [],
   "source": [
    "def CNN_featureMap(kernel,data):\n",
    "    \n",
    "    column_loop=data.shape[1]-kernel.shape[1]+1 # 横向取卷积区域次数\n",
    "    row_loop=data.shape[0]-kernel.shape[0]+1 # 换行次数\n",
    "    outputMatrix = np.zeros([row_loop,column_loop])\n",
    "    \n",
    "    for i in range(row_loop):\n",
    "        for j in range(column_loop):\n",
    "            conv_area = data[i:(i+kernel.shape[0]),j:(j+kernel.shape[1])] \n",
    "            conv_result = np.sum(conv_area*kernel) # the sum of the star product\n",
    "            outputMatrix[i,j]=conv_result           \n",
    "    \n",
    "    return outputMatrix"
   ]
  },
  {
   "cell_type": "code",
   "execution_count": 10,
   "metadata": {},
   "outputs": [
    {
     "name": "stdout",
     "output_type": "stream",
     "text": [
      "[[ 3.  1.  1.  4.  2.  3.]\n",
      " [ 0.  4.  2. -2.  4.  3.]\n",
      " [ 4. -1.  3.  2.  3.  1.]\n",
      " [-2.  4.  1.  3. -2.  2.]\n",
      " [-2.  1.  1.  4.  1.  1.]\n",
      " [ 3. -1.  1.  4.  2.  3.]]\n"
     ]
    }
   ],
   "source": [
    "CNN_Kerner=np.array([[-1,2,-1],\n",
    "                 [0,0,2],\n",
    "                 [2,-1,1]])\n",
    "inputMatrix=np.array([[0,1,0,1,1,0,1,0],\n",
    "                     [1,0,1,0,0,1,1,0],\n",
    "                     [0,1,0,1,1,0,0,1],\n",
    "                     [1,0,0,0,1,0,1,1],\n",
    "                     [1,0,0,1,1,0,0,0],\n",
    "                     [0,1,0,0,0,1,1,0],     \n",
    "                     [0,1,0,0,0,1,1,0],\n",
    "                     [0,0,1,1,0,1,0,0]])\n",
    "featureMap_result = CNN_featureMap(CNN_Kerner,inputMatrix)\n",
    "print(featureMap_result)\n"
   ]
  },
  {
   "cell_type": "markdown",
   "metadata": {},
   "source": [
    "### Feature map pooling      CNN池化 "
   ]
  },
  {
   "cell_type": "code",
   "execution_count": 11,
   "metadata": {},
   "outputs": [],
   "source": [
    "def CNN_maxPooling(scale,featureMap):\n",
    "    \n",
    "    row_slice=scale[0]  # stride\n",
    "    column_slice=scale[1] # stride\n",
    "    row=featureMap.shape[0] # map size\n",
    "    column=featureMap.shape[1] # map size\n",
    "    # loop times calculation\n",
    "    loop_row1 = row/row_slice  \n",
    "    loop_row2 = (int)(row/row_slice)\n",
    "    loop_column1 = column/column_slice\n",
    "    loop_column2 = (int)(column/column_slice) \n",
    "    if loop_row1>loop_row2:\n",
    "        loop_row2+=1\n",
    "    loop_row = loop_row2\n",
    "    if loop_column1>loop_column2:\n",
    "        loop_column2+=1\n",
    "    loop_column = loop_column2\n",
    "    \n",
    "    #print(loop_row,loop_column) # result shape\n",
    "    pooled_map = np.zeros([loop_row,loop_column])  # store max data\n",
    "    for i in range(loop_row):\n",
    "        for j in range(loop_column):\n",
    "            if (i==loop_row-1): # --->most down side\n",
    "                if (j==loop_column-1):  # --->most right side     \n",
    "                    pooled_map[i,j]=np.max(featureMap[(i*row_slice):,(j*column_slice):]) # final one\n",
    "                else:\n",
    "                    pooled_map[i,j]=np.max(featureMap[(i*row_slice):,(j*column_slice):((j+1)*column_slice)]) # final row\n",
    "            else:                \n",
    "                if (j==loop_column-1):          \n",
    "                    pooled_map[i,j]=np.max(featureMap[(i*row_slice):((i+1)*row_slice),(j*column_slice):]) # final column but not final row\n",
    "                else:\n",
    "                    pooled_map[i,j]=np.max(featureMap[(i*row_slice):((i+1)*row_slice),(j*column_slice):((j+1)*column_slice)]) # not final row/column\n",
    "           \n",
    "                \n",
    "    return pooled_map\n",
    "   "
   ]
  },
  {
   "cell_type": "code",
   "execution_count": 12,
   "metadata": {},
   "outputs": [
    {
     "data": {
      "text/plain": [
       "array([[4., 4., 4.],\n",
       "       [4., 3., 3.],\n",
       "       [3., 4., 3.]])"
      ]
     },
     "execution_count": 12,
     "metadata": {},
     "output_type": "execute_result"
    }
   ],
   "source": [
    "# parameter0: stride\n",
    "CNN_maxPooling((2,2),featureMap_result)"
   ]
  },
  {
   "cell_type": "markdown",
   "metadata": {},
   "source": [
    "### Update Weight，Perceptron      感知机权值更新"
   ]
  },
  {
   "cell_type": "code",
   "execution_count": 41,
   "metadata": {},
   "outputs": [],
   "source": [
    "def Perceptron(W,X,y):\n",
    "    \n",
    "    classified_result = y * (np.sum(X*W))\n",
    "\n",
    "    if classified_result <= 0:\n",
    "        W = W + (y*X)\n",
    "        return W,'wrong',classified_result\n",
    "    else:\n",
    "        return W,'right',classified_result"
   ]
  },
  {
   "cell_type": "code",
   "execution_count": 46,
   "metadata": {},
   "outputs": [
    {
     "name": "stdout",
     "output_type": "stream",
     "text": [
      "Right classfied, W should keep to [0 1 0]\n",
      "0.5\n"
     ]
    }
   ],
   "source": [
    "# data input by steps\n",
    "W_ = np.array([0,1,0])\n",
    "\n",
    "X_ = np.array([1,-0.5,-0.5])\n",
    "y_ = -1\n",
    "\n",
    "W_,Message,C_result=Perceptron(W_,X_,y_)\n",
    "if Message=='wrong':\n",
    "    print(\"Wrongly classfied, W should be updated to\",W_ )\n",
    "    print(C_result)\n",
    "else:\n",
    "    print(\"Right classfied, W should keep to\",W_ )\n",
    "    print(C_result)\n"
   ]
  },
  {
   "cell_type": "markdown",
   "metadata": {},
   "source": [
    "### Data Normalization "
   ]
  },
  {
   "cell_type": "markdown",
   "metadata": {},
   "source": [
    "+ min-max normalization"
   ]
  },
  {
   "cell_type": "code",
   "execution_count": 15,
   "metadata": {},
   "outputs": [],
   "source": [
    "def maxminNor(x,MIN,MAX,MIN_new,MAX_new):\n",
    "    return ((x-MIN)/(MAX-MIN))*(MAX_new-MIN_new)+MIN_new"
   ]
  },
  {
   "cell_type": "code",
   "execution_count": 25,
   "metadata": {},
   "outputs": [
    {
     "name": "stdout",
     "output_type": "stream",
     "text": [
      "After min-max normalization, the result is 1.000000\n"
     ]
    }
   ],
   "source": [
    "Xvalue=4\n",
    "MinValue=-4\n",
    "MaxValue=4\n",
    "MinValue_N=-1\n",
    "MaxValue_N=1\n",
    "nor_result=maxminNor(Xvalue,MinValue,MaxValue,MinValue_N,MaxValue_N)\n",
    "print(\"After min-max normalization, the result is %f\"%nor_result)"
   ]
  },
  {
   "cell_type": "markdown",
   "metadata": {},
   "source": [
    "+ Z-score"
   ]
  },
  {
   "cell_type": "code",
   "execution_count": 17,
   "metadata": {},
   "outputs": [],
   "source": [
    "def Znor(Xset,Xpoint):\n",
    "    x_bar = np.mean(Xset)\n",
    "    std = np.std(Xset)\n",
    "    return (Xpoint-x_bar)/std\n",
    "\n",
    "def Znor_given(Xpoint,x_bar,std):\n",
    "    return (Xpoint-x_bar)/std"
   ]
  },
  {
   "cell_type": "code",
   "execution_count": 37,
   "metadata": {},
   "outputs": [
    {
     "name": "stdout",
     "output_type": "stream",
     "text": [
      "1.414213562373095\n"
     ]
    }
   ],
   "source": [
    "# Xvalue=73600\n",
    "# Xmean=54000\n",
    "# Xstd=16000\n",
    "# print(Znor_given(Xvalue,Xmean,Xstd))\n",
    "Xset=np.array([-4,-2,0,2,4])\n",
    "Xpoint=4\n",
    "print(Znor(Xset,Xpoint))"
   ]
  },
  {
   "cell_type": "markdown",
   "metadata": {},
   "source": [
    "+ Decimal normalization"
   ]
  },
  {
   "cell_type": "code",
   "execution_count": 19,
   "metadata": {},
   "outputs": [],
   "source": [
    "def DecimalNor(x):\n",
    "    negative=False\n",
    "    if x<0:\n",
    "        x=-x\n",
    "        negative=True\n",
    "    temp=x   # just for calculate the bit of number x\n",
    "    count=1\n",
    "    while (temp/10) > 1:\n",
    "        temp=temp/10\n",
    "        count=count+1\n",
    "    \n",
    "    if negative:\n",
    "         return -x/pow(10,count)\n",
    "    else:\n",
    "        return x/pow(10,count)"
   ]
  },
  {
   "cell_type": "code",
   "execution_count": 38,
   "metadata": {},
   "outputs": [
    {
     "name": "stdout",
     "output_type": "stream",
     "text": [
      "0.4\n"
     ]
    }
   ],
   "source": [
    "Xvalue=4\n",
    "print(DecimalNor(Xvalue))  # output should be in range [-1,1]"
   ]
  },
  {
   "cell_type": "code",
   "execution_count": null,
   "metadata": {},
   "outputs": [],
   "source": []
  }
 ],
 "metadata": {
  "kernelspec": {
   "display_name": "Python 3",
   "language": "python",
   "name": "python3"
  },
  "language_info": {
   "codemirror_mode": {
    "name": "ipython",
    "version": 3
   },
   "file_extension": ".py",
   "mimetype": "text/x-python",
   "name": "python",
   "nbconvert_exporter": "python",
   "pygments_lexer": "ipython3",
   "version": "3.8.3"
  }
 },
 "nbformat": 4,
 "nbformat_minor": 4
}
